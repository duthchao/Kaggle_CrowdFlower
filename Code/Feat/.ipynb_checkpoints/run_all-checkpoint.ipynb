{
 "cells": [
  {
   "cell_type": "code",
   "execution_count": null,
   "metadata": {
    "collapsed": true
   },
   "outputs": [],
   "source": [
    "# %load run_all.py\n",
    "\n",
    "\"\"\"\n",
    "__file__\n",
    "\n",
    "\trun_all.py\n",
    "\n",
    "__description___\n",
    "\t\n",
    "\tThis file generates all the features in one shot.\n",
    "\n",
    "__author__\n",
    "\n",
    "\tChenglong Chen < c.chenglong@gmail.com >\n",
    "\n",
    "\"\"\"\n",
    "\n",
    "import os\n",
    "\n",
    "#################\n",
    "## Preprocesss ##\n",
    "#################\n",
    "#### preprocess data\n",
    "cmd = \"python ./preprocess.py\"\n",
    "os.system(cmd)\n",
    "\n",
    "# #### generate kfold\n",
    "# cmd = \"python ./gen_kfold.py\"\n",
    "# os.system(cmd)\n",
    "\n",
    "#######################\n",
    "## Generate features ##\n",
    "#######################\n",
    "#### query id\n",
    "cmd = \"python ./genFeat_id_feat.py\"\n",
    "os.system(cmd)\n",
    "\n",
    "#### counting feat\n",
    "cmd = \"python ./genFeat_counting_feat.py\"\n",
    "os.system(cmd)\n",
    "\n",
    "#### distance feat\n",
    "cmd = \"python ./genFeat_distance_feat.py\"\n",
    "os.system(cmd)\n",
    "\n",
    "#### basic tfidf\n",
    "cmd = \"python ./genFeat_basic_tfidf_feat.py\"\n",
    "os.system(cmd)\n",
    "\n",
    "#### cooccurrence tfidf\n",
    "cmd = \"python ./genFeat_cooccurrence_tfidf_feat.py\"\n",
    "os.system(cmd)\n",
    "\n",
    "\n",
    "#####################\n",
    "## Combine Feature ##\n",
    "#####################\n",
    "#### combine feat\n",
    "cmd = \"python ./combine_feat_[LSA_and_stats_feat_Jun09]_[Low].py\"\n",
    "os.system(cmd)\n",
    "\n",
    "#### combine feat\n",
    "cmd = \"python ./combine_feat_[LSA_svd150_and_Jaccard_coef_Jun14]_[Low].py\"\n",
    "os.system(cmd)\n",
    "\n",
    "#### combine feat\n",
    "cmd = \"python ./combine_feat_[svd100_and_bow_Jun23]_[Low].py\"\n",
    "os.system(cmd)\n",
    "\n",
    "#### combine feat\n",
    "cmd = \"python ./combine_feat_[svd100_and_bow_Jun27]_[High].py\"\n",
    "os.system(cmd)"
   ]
  },
  {
   "cell_type": "code",
   "execution_count": 6,
   "metadata": {
    "collapsed": false
   },
   "outputs": [
    {
     "data": {
      "text/plain": [
       "0"
      ]
     },
     "execution_count": 6,
     "metadata": {},
     "output_type": "execute_result"
    }
   ],
   "source": [
    "cmd = '''git add -A\n",
    "git commit -m\"add data\"\n",
    "git push'''\n",
    "os.system(cmd)"
   ]
  },
  {
   "cell_type": "code",
   "execution_count": 3,
   "metadata": {
    "collapsed": false
   },
   "outputs": [],
   "source": [
    "import os"
   ]
  },
  {
   "cell_type": "code",
   "execution_count": 1,
   "metadata": {
    "collapsed": false
   },
   "outputs": [
    {
     "name": "stdout",
     "output_type": "stream",
     "text": [
      "Load data...\n",
      "Done."
     ]
    },
    {
     "name": "stderr",
     "output_type": "stream",
     "text": [
      "/home/ubuntu/anaconda3/envs/python2/lib/python2.7/site-packages/IPython/kernel/__main__.py:55: SettingWithCopyWarning: \n",
      "A value is trying to be set on a copy of a slice from a DataFrame\n",
      "\n",
      "See the the caveats in the documentation: http://pandas.pydata.org/pandas-docs/stable/indexing.html#indexing-view-versus-copy\n",
      "/home/ubuntu/anaconda3/envs/python2/lib/python2.7/site-packages/bs4/__init__.py:189: UserWarning: \"http://i104.photobucket.com/albums/m175/champions_on_display/wincraft2013/januaryb/65497012.jpg\" looks like a URL. Beautiful Soup is not an HTTP client. You should probably use an HTTP client to get the document behind the URL, and feed that document to Beautiful Soup.\n",
      "  '\"%s\" looks like a URL. Beautiful Soup is not an HTTP client. You should probably use an HTTP client to get the document behind the URL, and feed that document to Beautiful Soup.' % markup)\n",
      "/home/ubuntu/anaconda3/envs/python2/lib/python2.7/site-packages/bs4/__init__.py:189: UserWarning: \"http://i104.photobucket.com/albums/m175/champions_on_display/wincraft2013/januaryb/65516012.jpg\" looks like a URL. Beautiful Soup is not an HTTP client. You should probably use an HTTP client to get the document behind the URL, and feed that document to Beautiful Soup.\n",
      "  '\"%s\" looks like a URL. Beautiful Soup is not an HTTP client. You should probably use an HTTP client to get the document behind the URL, and feed that document to Beautiful Soup.' % markup)\n",
      "/home/ubuntu/anaconda3/envs/python2/lib/python2.7/site-packages/bs4/__init__.py:189: UserWarning: \"http://i104.photobucket.com/albums/m175/champions_on_display/wincraft2013/januaryb/6552101\" looks like a URL. Beautiful Soup is not an HTTP client. You should probably use an HTTP client to get the document behind the URL, and feed that document to Beautiful Soup.\n",
      "  '\"%s\" looks like a URL. Beautiful Soup is not an HTTP client. You should probably use an HTTP client to get the document behind the URL, and feed that document to Beautiful Soup.' % markup)\n",
      "/home/ubuntu/anaconda3/envs/python2/lib/python2.7/site-packages/bs4/__init__.py:189: UserWarning: \"http://i104.photobucket.com/albums/m175/champions_on_display/wincraft2013/januaryb/65527\" looks like a URL. Beautiful Soup is not an HTTP client. You should probably use an HTTP client to get the document behind the URL, and feed that document to Beautiful Soup.\n",
      "  '\"%s\" looks like a URL. Beautiful Soup is not an HTTP client. You should probably use an HTTP client to get the document behind the URL, and feed that document to Beautiful Soup.' % markup)\n",
      "/home/ubuntu/anaconda3/envs/python2/lib/python2.7/site-packages/bs4/__init__.py:189: UserWarning: \"http://i104.photobucket.com/albums/m175/champions_on_display/wincraft2013/januarya/14146012.jpg\" looks like a URL. Beautiful Soup is not an HTTP client. You should probably use an HTTP client to get the document behind the URL, and feed that document to Beautiful Soup.\n",
      "  '\"%s\" looks like a URL. Beautiful Soup is not an HTTP client. You should probably use an HTTP client to get the document behind the URL, and feed that document to Beautiful Soup.' % markup)\n"
     ]
    },
    {
     "name": "stdout",
     "output_type": "stream",
     "text": [
      "\n",
      "Pre-process data...\n",
      "Done.\n",
      "Save data...\n",
      "Done.\n"
     ]
    },
    {
     "data": {
      "text/plain": [
       "'\\n## pos tag text\\ndfTrain = dfTrain.apply(pos_tag_text, axis=1)\\ndfTest = dfTest.apply(pos_tag_text, axis=1)\\nwith open(config.pos_tagged_train_data_path, \"wb\") as f:\\n    cPickle.dump(dfTrain, f, -1)\\nwith open(config.pos_tagged_test_data_path, \"wb\") as f:\\n    cPickle.dump(dfTest, f, -1)\\nprint(\"Done.\")\\n'"
      ]
     },
     "execution_count": 1,
     "metadata": {},
     "output_type": "execute_result"
    }
   ],
   "source": [
    "# %load preprocess.py\n",
    "\n",
    "\"\"\"\n",
    "__file__\n",
    "\n",
    "    preprocess.py\n",
    "\n",
    "__description__\n",
    "\n",
    "    This file preprocesses data.\n",
    "\n",
    "__author__\n",
    "\n",
    "    Chenglong Chen\n",
    "    \n",
    "\"\"\"\n",
    "\n",
    "import sys\n",
    "import cPickle\n",
    "import numpy as np\n",
    "import pandas as pd\n",
    "from nlp_utils import clean_text, pos_tag_text\n",
    "sys.path.append(\"../\")\n",
    "from param_config import config\n",
    "\n",
    "###############\n",
    "## Load Data ##\n",
    "###############\n",
    "print(\"Load data...\")\n",
    "\n",
    "dfTrain = pd.read_csv(config.original_train_data_path).fillna(\"\")\n",
    "dfTest = pd.read_csv(config.original_test_data_path).fillna(\"\")\n",
    "# number of train/test samples\n",
    "num_train, num_test = dfTrain.shape[0], dfTest.shape[0]\n",
    "\n",
    "print(\"Done.\")\n",
    "\n",
    "\n",
    "######################\n",
    "## Pre-process Data ##\n",
    "######################\n",
    "print(\"Pre-process data...\")\n",
    "\n",
    "## insert fake label for test\n",
    "dfTest[\"median_relevance\"] = np.ones((num_test))\n",
    "dfTest[\"relevance_variance\"] = np.zeros((num_test))\n",
    "\n",
    "## insert sample index\n",
    "dfTrain[\"index\"] = np.arange(num_train)\n",
    "dfTest[\"index\"] = np.arange(num_test)\n",
    "\n",
    "## one-hot encode the median_relevance\n",
    "for i in range(config.n_classes):\n",
    "    dfTrain[\"median_relevance_%d\" % (i+1)] = 0\n",
    "    dfTrain[\"median_relevance_%d\" % (i+1)][dfTrain[\"median_relevance\"]==(i+1)] = 1\n",
    "    \n",
    "## query ids\n",
    "qid_dict = dict()\n",
    "for i,q in enumerate(np.unique(dfTrain[\"query\"]), start=1):\n",
    "    qid_dict[q] = i\n",
    "    \n",
    "## insert query id\n",
    "dfTrain[\"qid\"] = map(lambda q: qid_dict[q], dfTrain[\"query\"])\n",
    "dfTest[\"qid\"] = map(lambda q: qid_dict[q], dfTest[\"query\"])\n",
    "\n",
    "## clean text\n",
    "clean = lambda line: clean_text(line, drop_html_flag=config.drop_html_flag)\n",
    "dfTrain = dfTrain.apply(clean, axis=1)\n",
    "dfTest = dfTest.apply(clean, axis=1)\n",
    "\n",
    "print(\"Done.\")\n",
    "\n",
    "\n",
    "###############\n",
    "## Save Data ##\n",
    "###############\n",
    "print(\"Save data...\")\n",
    "\n",
    "with open(config.processed_train_data_path, \"wb\") as f:\n",
    "    cPickle.dump(dfTrain, f, -1)\n",
    "with open(config.processed_test_data_path, \"wb\") as f:\n",
    "    cPickle.dump(dfTest, f, -1)\n",
    "    \n",
    "print(\"Done.\")\n",
    "\n",
    "\n",
    "\"\"\"\n",
    "## pos tag text\n",
    "dfTrain = dfTrain.apply(pos_tag_text, axis=1)\n",
    "dfTest = dfTest.apply(pos_tag_text, axis=1)\n",
    "with open(config.pos_tagged_train_data_path, \"wb\") as f:\n",
    "    cPickle.dump(dfTrain, f, -1)\n",
    "with open(config.pos_tagged_test_data_path, \"wb\") as f:\n",
    "    cPickle.dump(dfTest, f, -1)\n",
    "print(\"Done.\")\n",
    "\"\"\""
   ]
  },
  {
   "cell_type": "code",
   "execution_count": 2,
   "metadata": {
    "collapsed": false
   },
   "outputs": [
    {
     "ename": "NameError",
     "evalue": "name 'os' is not defined",
     "output_type": "error",
     "traceback": [
      "\u001b[1;31m---------------------------------------------------------------------------\u001b[0m",
      "\u001b[1;31mNameError\u001b[0m                                 Traceback (most recent call last)",
      "\u001b[1;32m<ipython-input-2-22be3609970d>\u001b[0m in \u001b[0;36m<module>\u001b[1;34m()\u001b[0m\n\u001b[0;32m      2\u001b[0m \u001b[0mgit\u001b[0m \u001b[0mcommit\u001b[0m \u001b[1;33m-\u001b[0m\u001b[0mm\u001b[0m\u001b[1;34m\"add data\"\u001b[0m\u001b[1;33m\u001b[0m\u001b[0m\n\u001b[0;32m      3\u001b[0m git push'''\n\u001b[1;32m----> 4\u001b[1;33m \u001b[0mos\u001b[0m\u001b[1;33m.\u001b[0m\u001b[0msystem\u001b[0m\u001b[1;33m(\u001b[0m\u001b[0mcmd\u001b[0m\u001b[1;33m)\u001b[0m\u001b[1;33m\u001b[0m\u001b[0m\n\u001b[0m",
      "\u001b[1;31mNameError\u001b[0m: name 'os' is not defined"
     ]
    }
   ],
   "source": [
    "cmd = '''git add -A\n",
    "git commit -m\"add data\"\n",
    "git push'''\n",
    "os.system(cmd)"
   ]
  },
  {
   "cell_type": "code",
   "execution_count": null,
   "metadata": {
    "collapsed": true
   },
   "outputs": [],
   "source": [
    "%load genFeat_counting_feat.py"
   ]
  },
  {
   "cell_type": "code",
   "execution_count": null,
   "metadata": {
    "collapsed": true
   },
   "outputs": [],
   "source": [
    "cmd = '''git add -A\n",
    "git commit -m\"add data\"\n",
    "git push'''\n",
    "os.system(cmd)"
   ]
  },
  {
   "cell_type": "code",
   "execution_count": null,
   "metadata": {
    "collapsed": true
   },
   "outputs": [],
   "source": [
    "%load genFeat_distance_feat.py"
   ]
  },
  {
   "cell_type": "code",
   "execution_count": null,
   "metadata": {
    "collapsed": true
   },
   "outputs": [],
   "source": [
    "cmd = '''git add -A\n",
    "git commit -m\"add data\"\n",
    "git push'''\n",
    "os.system(cmd)"
   ]
  },
  {
   "cell_type": "code",
   "execution_count": null,
   "metadata": {
    "collapsed": true
   },
   "outputs": [],
   "source": [
    "%load genFeat_basic_tfidf_feat.py"
   ]
  },
  {
   "cell_type": "code",
   "execution_count": null,
   "metadata": {
    "collapsed": true
   },
   "outputs": [],
   "source": [
    "cmd = '''git add -A\n",
    "git commit -m\"add data\"\n",
    "git push'''\n",
    "os.system(cmd)"
   ]
  },
  {
   "cell_type": "code",
   "execution_count": null,
   "metadata": {
    "collapsed": true
   },
   "outputs": [],
   "source": [
    "%genFeat_cooccurrence_tfidf_feat.py"
   ]
  },
  {
   "cell_type": "code",
   "execution_count": null,
   "metadata": {
    "collapsed": true
   },
   "outputs": [],
   "source": [
    "cmd = '''git add -A\n",
    "git commit -m\"add data\"\n",
    "git push'''\n",
    "os.system(cmd)"
   ]
  }
 ],
 "metadata": {
  "kernelspec": {
   "display_name": "Python 2",
   "language": "python",
   "name": "python2"
  },
  "language_info": {
   "codemirror_mode": {
    "name": "ipython",
    "version": 2
   },
   "file_extension": ".py",
   "mimetype": "text/x-python",
   "name": "python",
   "nbconvert_exporter": "python",
   "pygments_lexer": "ipython2",
   "version": "2.7.10"
  }
 },
 "nbformat": 4,
 "nbformat_minor": 0
}
